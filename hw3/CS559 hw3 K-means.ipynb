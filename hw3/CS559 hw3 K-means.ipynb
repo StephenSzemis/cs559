{
 "cells": [
  {
   "cell_type": "code",
   "execution_count": 3,
   "metadata": {},
   "outputs": [],
   "source": [
    "# _author_ = \"jiali cui\"\n",
    "# Email : cuijiali961224@gmail.com\n",
    "# Data:\n",
    "\n",
    "import numpy as np\n",
    "def update_marker():\n",
    "    # Iterate all data\n",
    "    # Find the cluster that has minimal distance between this point and the center of this cluster\n",
    "    # update the marker of this point\n",
    "\n",
    "def update_center():\n",
    "    # Find the points in cluster 1\n",
    "    # update the center of cluster 1\n",
    "    \n",
    "    # Find the points in cluster 2\n",
    "    # update the center of cluster 2\n",
    "    \n",
    "    # Find the points in cluster 3\n",
    "    # update the center of cluster 3"
   ]
  },
  {
   "cell_type": "code",
   "execution_count": 4,
   "metadata": {},
   "outputs": [],
   "source": [
    "# For example\n",
    "\n",
    "data = np.array([[5.9, 3.2], [4.6, 2.9], [6.2, 2.8], [4.7, 3.2], [5.5, 4.2], [5.0, 3.0],\n",
    "              [4.9, 3.1], [6.7, 3.1], [5.1, 3.8], [6.0, 3.0]])\n",
    "# initialize center_of_cluster\n",
    "center_of_cluster = None\n",
    "# initialize cluster_marker\n",
    "cluster_marker = None"
   ]
  },
  {
   "cell_type": "code",
   "execution_count": 5,
   "metadata": {},
   "outputs": [
    {
     "name": "stdout",
     "output_type": "stream",
     "text": [
      "iteration :  1\n",
      "center of RED is [5.17142857 3.17142857]\n",
      "center of GREEN is [5.5 4.2]\n",
      "center of BLUE is [6.45 2.95]\n",
      "--------------------------------------------------\n",
      "iteration :  2\n",
      "center of RED is [4.8  3.05]\n",
      "center of GREEN is [5.3 4. ]\n",
      "center of BLUE is [6.2   3.025]\n",
      "--------------------------------------------------\n",
      "iteration :  3\n",
      "center of RED is [4.8  3.05]\n",
      "center of GREEN is [5.3 4. ]\n",
      "center of BLUE is [6.2   3.025]\n",
      "--------------------------------------------------\n",
      "iteration :  4\n",
      "center of RED is [4.8  3.05]\n",
      "center of GREEN is [5.3 4. ]\n",
      "center of BLUE is [6.2   3.025]\n",
      "--------------------------------------------------\n"
     ]
    }
   ],
   "source": [
    "# Given different initialization of center_of_cluster, cluster_marker\n",
    "# you will have different array\n",
    "\n",
    "# But better show outputs like following code.\n",
    "\n",
    "for i in range(4):\n",
    "    update_marker()\n",
    "    update_center()\n",
    "    print(\"iteration : \", i+1)\n",
    "    print(\"center of RED is\", center_of_cluster[0, :])\n",
    "    print(\"center of GREEN is\", center_of_cluster[1, :])\n",
    "    print(\"center of BLUE is\", center_of_cluster[2, :])\n",
    "    print(\"--------------------------------------------------\")"
   ]
  },
  {
   "cell_type": "code",
   "execution_count": null,
   "metadata": {},
   "outputs": [],
   "source": []
  }
 ],
 "metadata": {
  "kernelspec": {
   "display_name": "Python 3",
   "language": "python",
   "name": "python3"
  },
  "language_info": {
   "codemirror_mode": {
    "name": "ipython",
    "version": 3
   },
   "file_extension": ".py",
   "mimetype": "text/x-python",
   "name": "python",
   "nbconvert_exporter": "python",
   "pygments_lexer": "ipython3",
   "version": "3.6.9"
  }
 },
 "nbformat": 4,
 "nbformat_minor": 2
}
